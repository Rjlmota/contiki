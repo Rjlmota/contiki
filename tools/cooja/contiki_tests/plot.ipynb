{
 "cells": [
  {
   "cell_type": "code",
   "execution_count": 2,
   "metadata": {},
   "outputs": [],
   "source": [
    "import pandas as pd\n",
    "import matplotlib.pyplot as plt\n",
    "import numpy as np"
   ]
  },
  {
   "cell_type": "code",
   "execution_count": 45,
   "metadata": {},
   "outputs": [
    {
     "name": "stdout",
     "output_type": "stream",
     "text": [
      "[1     11.000000\n",
      "2     11.000000\n",
      "3     11.000000\n",
      "4     11.000000\n",
      "5     11.000000\n",
      "6     10.666667\n",
      "7     11.000000\n",
      "8     11.000000\n",
      "9     10.666667\n",
      "10    11.000000\n",
      "dtype: float64, 10    11.0\n",
      "11    11.0\n",
      "12    11.0\n",
      "13    11.0\n",
      "14    11.0\n",
      "15    11.0\n",
      "16    11.0\n",
      "17    11.0\n",
      "18    11.0\n",
      "19    11.0\n",
      "20    11.0\n",
      "dtype: float64]\n",
      "[10.933333333333334, 11.0]\n"
     ]
    },
    {
     "data": {
      "text/plain": [
       "<BarContainer object of 2 artists>"
      ]
     },
     "execution_count": 45,
     "metadata": {},
     "output_type": "execute_result"
    },
    {
     "data": {
      "image/png": "[encoded data removed]",
      "text/plain": [
       "<Figure size 432x288 with 1 Axes>"
      ]
     },
     "metadata": {
      "needs_background": "light"
     },
     "output_type": "display_data"
    }
   ],
   "source": [
    "data = pd.read_csv(\"output.txt\", sep = \"\\t\")\n",
    "\n",
    "#print(data)\n",
    "means = []\n",
    "means.append(np.mean(data.iloc[:, 0:10]))\n",
    "\n",
    "means.append(np.mean(data.iloc[:, 9:20]))\n",
    "\n",
    "print(means)\n",
    "\n",
    "mean = []\n",
    "mean.append(np.mean(means[0]))\n",
    "mean.append(np.mean(means[1]))\n",
    "print(mean)\n",
    "plt.bar([1, 2], mean)"
   ]
  }
 ],
 "metadata": {
  "kernelspec": {
   "display_name": "Python 3",
   "language": "python",
   "name": "python3"
  },
  "language_info": {
   "codemirror_mode": {
    "name": "ipython",
    "version": 3
   },
   "file_extension": ".py",
   "mimetype": "text/x-python",
   "name": "python",
   "nbconvert_exporter": "python",
   "pygments_lexer": "ipython3",
   "version": "3.7.0"
  }
 },
 "nbformat": 4,
 "nbformat_minor": 2
}
